{
 "cells": [
  {
   "cell_type": "code",
   "execution_count": 1,
   "id": "c4fade61",
   "metadata": {},
   "outputs": [
    {
     "name": "stderr",
     "output_type": "stream",
     "text": [
      "C:\\Users\\joyho\\AppData\\Roaming\\Python\\Python38\\site-packages\\numpy\\_distributor_init.py:30: UserWarning: loaded more than 1 DLL from .libs:\n",
      "C:\\Users\\joyho\\AppData\\Roaming\\Python\\Python38\\site-packages\\numpy\\.libs\\libopenblas.EL2C6PLE4ZYW3ECEVIV3OXXGRN2NRFM2.gfortran-win_amd64.dll\n",
      "C:\\Users\\joyho\\AppData\\Roaming\\Python\\Python38\\site-packages\\numpy\\.libs\\libopenblas.FB5AE2TYXYH2IJRDKGDGQ3XBKLKTF43H.gfortran-win_amd64.dll\n",
      "  warnings.warn(\"loaded more than 1 DLL from .libs:\"\n"
     ]
    }
   ],
   "source": [
    "import os\n",
    "import tqdm\n",
    "import numpy as np\n",
    "import cv2\n",
    "import matplotlib.pyplot as plt\n",
    "from keras.models import Sequential, Model\n",
    "import cifarEdgesModel\n",
    "from utils import *\n",
    "import cv2\n",
    "from convert_gray import apply_sobel, apply_canny, load_img, class_dict\n",
    "import matplotlib.pyplot as plt"
   ]
  },
  {
   "cell_type": "markdown",
   "id": "a13d4804",
   "metadata": {},
   "source": [
    "# load model"
   ]
  },
  {
   "cell_type": "code",
   "execution_count": 2,
   "id": "ae985d9b",
   "metadata": {
    "scrolled": true
   },
   "outputs": [],
   "source": [
    "model = cifarEdgesModel.create_model()\n",
    "model.load_weights('./weights/lastest/weights-improvement-08-2.19.h5')\n",
    "model = Model(inputs = model.input,outputs = model.output)"
   ]
  },
  {
   "cell_type": "markdown",
   "id": "c16f6a9f",
   "metadata": {},
   "source": [
    "# Prepare Image (2 options)"
   ]
  },
  {
   "cell_type": "markdown",
   "id": "2750e9ea",
   "metadata": {},
   "source": [
    "## Make Fractal"
   ]
  },
  {
   "cell_type": "code",
   "execution_count": 3,
   "id": "37356480",
   "metadata": {},
   "outputs": [],
   "source": [
    "fractal_type = 'Burning_ship' # @param [\"Mandelbrot\", \"Burning_ship\", \"Julia\", \"Multibrot\"]\n",
    "z = -0.4 + 0.6 * 1j  # only Julia need\n",
    "n = 3  # only Multibrot need\n",
    "x_min, x_max, y_min, y_max = -0.635812184091031, -0.6357047294104714, -0.9967182352675186, -0.9966080482052665"
   ]
  },
  {
   "cell_type": "code",
   "execution_count": 4,
   "id": "56494f13",
   "metadata": {},
   "outputs": [
    {
     "data": {
      "text/plain": [
       "(-0.5, 31.5, 31.5, -0.5)"
      ]
     },
     "execution_count": 4,
     "metadata": {},
     "output_type": "execute_result"
    },
    {
     "data": {
      "image/png": "[encoded data removed]",
      "text/plain": [
       "<Figure size 432x288 with 1 Axes>"
      ]
     },
     "metadata": {
      "needs_background": "light"
     },
     "output_type": "display_data"
    }
   ],
   "source": [
    "region, x_min, x_max, y_min, y_max = generate_fractals(fractal_type,\n",
    "                                                       x_min,\n",
    "                                                       x_max,\n",
    "                                                       y_min,\n",
    "                                                       y_max,\n",
    "                                                       z,\n",
    "                                                       n,\n",
    "                                                       crop=False)\n",
    "region_32 = cv2.resize(region, (32, 32))\n",
    "region_32 = apply_sobel(region_32)\n",
    "region_32 = region_32 / 255.0\n",
    "plt.imshow(region_32, cmap='gray')\n",
    "plt.axis('off')"
   ]
  },
  {
   "cell_type": "markdown",
   "id": "f6e39dc4",
   "metadata": {},
   "source": [
    "## Read Image"
   ]
  },
  {
   "cell_type": "code",
   "execution_count": 12,
   "id": "e65b450d",
   "metadata": {},
   "outputs": [
    {
     "name": "stderr",
     "output_type": "stream",
     "text": [
      "100%|███████████████████████████████████████████████████████████████████████████| 50000/50000 [00:59<00:00, 841.50it/s]\n"
     ]
    }
   ],
   "source": [
    "x_train_edter = load_img(r'F:\\dataset\\CIFAR100\\cifar100_train_sobel_32',\n",
    "                         (50000, 32, 32, 1))\n",
    "# x_val_edter = load_img(r'F:\\dataset\\CIFAR100\\cifar100_val_sobel_32',\n",
    "#                        (10000, 32, 32, 1))"
   ]
  },
  {
   "cell_type": "code",
   "execution_count": 21,
   "id": "7dc6b146",
   "metadata": {},
   "outputs": [
    {
     "data": {
      "text/plain": [
       "<matplotlib.image.AxesImage at 0x262dcc2f790>"
      ]
     },
     "execution_count": 21,
     "metadata": {},
     "output_type": "execute_result"
    },
    {
     "data": {
      "image/png": "[encoded data removed]",
      "text/plain": [
       "<Figure size 432x288 with 1 Axes>"
      ]
     },
     "metadata": {
      "needs_background": "light"
     },
     "output_type": "display_data"
    }
   ],
   "source": [
    "plt.imshow(x_train_edter[9],cmap='gray')\n",
    "# plt.axis('off')"
   ]
  },
  {
   "cell_type": "markdown",
   "id": "8cb6af14",
   "metadata": {},
   "source": [
    "# Detection Test"
   ]
  },
  {
   "cell_type": "code",
   "execution_count": 24,
   "id": "88f67ac6",
   "metadata": {},
   "outputs": [],
   "source": [
    "model_input = x_train_edter[9] # region_32"
   ]
  },
  {
   "cell_type": "markdown",
   "id": "21442eab",
   "metadata": {},
   "source": [
    "**bar graph**"
   ]
  },
  {
   "cell_type": "code",
   "execution_count": 25,
   "id": "73e8aebb",
   "metadata": {},
   "outputs": [
    {
     "name": "stdout",
     "output_type": "stream",
     "text": [
      "1/1 [==============================] - 0s 18ms/step\n"
     ]
    },
    {
     "data": {
      "image/png": "[encoded data removed]",
      "text/plain": [
       "<Figure size 432x288 with 1 Axes>"
      ]
     },
     "metadata": {
      "needs_background": "light"
     },
     "output_type": "display_data"
    },
    {
     "name": "stdout",
     "output_type": "stream",
     "text": [
      "boy 0.1337691694498062\n"
     ]
    }
   ],
   "source": [
    "outcome = model.predict(model_input.reshape((1, 32, 32, 1)))[0]\n",
    "plt.bar(np.arange(0,101),height=outcome)\n",
    "plt.xlabel('class')\n",
    "plt.ylabel('probability')\n",
    "plt.title('model output')\n",
    "plt.show()\n",
    "ind = np.argmax(outcome)\n",
    "conf = outcome[ind]\n",
    "class_name = class_dict[ind]\n",
    "print(f'{class_name} {conf}')"
   ]
  },
  {
   "cell_type": "markdown",
   "id": "231ac74b",
   "metadata": {},
   "source": [
    "**CAM**"
   ]
  },
  {
   "cell_type": "code",
   "execution_count": 31,
   "id": "6a527cd8",
   "metadata": {},
   "outputs": [
    {
     "data": {
      "text/plain": [
       "<matplotlib.image.AxesImage at 0x2628c725e80>"
      ]
     },
     "execution_count": 31,
     "metadata": {},
     "output_type": "execute_result"
    },
    {
     "data": {
      "image/png": "[encoded data removed]",
      "text/plain": [
       "<Figure size 432x288 with 1 Axes>"
      ]
     },
     "metadata": {
      "needs_background": "light"
     },
     "output_type": "display_data"
    }
   ],
   "source": [
    "import tensorflow as tf\n",
    "import tensorflow.keras.backend as K\n",
    "\n",
    "last_conv_layer = model.get_layer('conv_3_')\n",
    "heatmap_model =tf.keras.models.Model([model.inputs], [last_conv_layer.output, model.output])\n",
    "with tf.GradientTape() as gtape:\n",
    "    img = model_input.reshape((1, 32, 32, 1))\n",
    "    conv_output, outcome = heatmap_model(img)\n",
    "    prob = outcome[:, np.argmax(outcome[0])]  # 最大可能性类别的预测概率\n",
    "    grads = gtape.gradient(prob, conv_output)  # 类别与卷积层的梯度 (1,14,14,512)\n",
    "    pooled_grads = K.mean(grads, axis=(0, 1, 2))  # 特征层梯度的全局平均代表每个特征层权重\n",
    "heatmap = tf.reduce_mean(tf.multiply(pooled_grads, conv_output), axis=-1)  # 权重与特征层相乘，512层求和平均\n",
    "heatmap = np.maximum(heatmap, 0)\n",
    "max_heat = np.max(heatmap)\n",
    "if max_heat == 0:\n",
    "    max_heat = 1e-10\n",
    "heatmap /= max_heat\n",
    "original_img = convert_gray2rgb(model_input*255)\n",
    "heatmap1 = cv2.resize(heatmap[0], (original_img.shape[1], original_img.shape[0]), interpolation=cv2.INTER_CUBIC)\n",
    "heatmap1 = np.uint8(255 * heatmap1)\n",
    "heatmap1 = cv2.applyColorMap(heatmap1, cv2.COLORMAP_JET)\n",
    "frame_out = cv2.addWeighted(original_img, 0.75, heatmap1, 0.25, 0)\n",
    "plt.imshow(frame_out,cmap='gray')\n"
   ]
  }
 ],
 "metadata": {
  "kernelspec": {
   "display_name": "Python 3 (ipykernel)",
   "language": "python",
   "name": "python3"
  },
  "language_info": {
   "codemirror_mode": {
    "name": "ipython",
    "version": 3
   },
   "file_extension": ".py",
   "mimetype": "text/x-python",
   "name": "python",
   "nbconvert_exporter": "python",
   "pygments_lexer": "ipython3",
   "version": "3.8.13"
  },
  "toc": {
   "base_numbering": 1,
   "nav_menu": {},
   "number_sections": true,
   "sideBar": true,
   "skip_h1_title": false,
   "title_cell": "Table of Contents",
   "title_sidebar": "Contents",
   "toc_cell": false,
   "toc_position": {},
   "toc_section_display": true,
   "toc_window_display": true
  }
 },
 "nbformat": 4,
 "nbformat_minor": 5
}
