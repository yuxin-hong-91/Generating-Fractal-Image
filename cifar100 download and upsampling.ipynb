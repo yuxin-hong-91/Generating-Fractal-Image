{
 "cells": [
  {
   "cell_type": "markdown",
   "id": "62c90f30",
   "metadata": {},
   "source": [
    "# load data"
   ]
  },
  {
   "cell_type": "code",
   "execution_count": 1,
   "id": "0ae292b2",
   "metadata": {},
   "outputs": [
    {
     "name": "stderr",
     "output_type": "stream",
     "text": [
      "C:\\Users\\joyho\\AppData\\Roaming\\Python\\Python38\\site-packages\\numpy\\_distributor_init.py:30: UserWarning: loaded more than 1 DLL from .libs:\n",
      "C:\\Users\\joyho\\AppData\\Roaming\\Python\\Python38\\site-packages\\numpy\\.libs\\libopenblas.EL2C6PLE4ZYW3ECEVIV3OXXGRN2NRFM2.gfortran-win_amd64.dll\n",
      "C:\\Users\\joyho\\AppData\\Roaming\\Python\\Python38\\site-packages\\numpy\\.libs\\libopenblas.FB5AE2TYXYH2IJRDKGDGQ3XBKLKTF43H.gfortran-win_amd64.dll\n",
      "  warnings.warn(\"loaded more than 1 DLL from .libs:\"\n"
     ]
    }
   ],
   "source": [
    "from tensorflow.keras.datasets import cifar100\n",
    "(x_train, y_train), (x_val, y_val) = cifar100.load_data()"
   ]
  },
  {
   "cell_type": "markdown",
   "id": "b7509cc3",
   "metadata": {},
   "source": [
    "# check data"
   ]
  },
  {
   "cell_type": "code",
   "execution_count": 2,
   "id": "90d5a653",
   "metadata": {},
   "outputs": [
    {
     "data": {
      "image/png": "[encoded data removed]",
      "text/plain": [
       "<Figure size 432x288 with 1 Axes>"
      ]
     },
     "metadata": {
      "needs_background": "light"
     },
     "output_type": "display_data"
    }
   ],
   "source": [
    "import matplotlib.pyplot as plt\n",
    "i = 0\n",
    "dic = {19: 'cattle', 29: 'dinosaur', 0: 'apple', 11: 'boy', 1: 'aquarium_fish', 86: 'telephone', 90: 'train', 28: 'cup', 23: 'cloud', 31: 'elephant', 39: 'keyboard', 96: 'willow_tree', 82: 'sunflower', 17: 'castle', 71: 'sea', 8: 'bicycle', 97: 'wolf', 80: 'squirrel', 74: 'shrew', 59: 'pine_tree', 70: 'rose', 87: 'television', 84: 'table', 64: 'possum', 52: 'oak_tree', 42: 'leopard', 47: 'maple_tree', 65: 'rabbit', 21: 'chimpanzee', 22: 'clock', 81: 'streetcar', 24: 'cockroach', 78: 'snake', 45: 'lobster', 49: 'mountain', 56: 'palm_tree', 76: 'skyscraper', 89: 'tractor', 73: 'shark', 14: 'butterfly', 9: 'bottle', 6: 'bee', 20: 'chair', 98: 'woman', 36: 'hamster', 55: 'otter', 72: 'seal', 43: 'lion', 51: 'mushroom', 35: 'girl', 83: 'sweet_pepper', 33: 'forest', 27: 'crocodile', 53: 'orange', 92: 'tulip', 50: 'mouse', 15: 'camel', 18: 'caterpillar', 46: 'man', 75: 'skunk', 38: 'kangaroo', 66: 'raccoon', 77: 'snail', 69: 'rocket', 95: 'whale', 99: 'worm', 93: 'turtle', 4: 'beaver', 61: 'plate', 94: 'wardrobe', 68: 'road', 34: 'fox', 32: 'flatfish', 88: 'tiger', 67: 'ray', 30: 'dolphin', 62: 'poppy', 63: 'porcupine', 40: 'lamp', 26: 'crab', 48: 'motorcycle', 79: 'spider', 85: 'tank', 54: 'orchid', 44: 'lizard', 7: 'beetle', 12: 'bridge', 2: 'baby', 41: 'lawn_mower', 37: 'house', 13: 'bus', 25: 'couch', 10: 'bowl', 57: 'pear', 5: 'bed', 60: 'plain', 91: 'trout', 3: 'bear', 58: 'pickup_truck', 16: 'can'}\n",
    "plt.imshow(x_train[i])\n",
    "plt.title('label: '+dic[int(y_train[i])])\n",
    "plt.show()"
   ]
  },
  {
   "cell_type": "markdown",
   "id": "fa1f2d9d",
   "metadata": {},
   "source": [
    "# save img to folder"
   ]
  },
  {
   "cell_type": "code",
   "execution_count": 3,
   "id": "e0db86e9",
   "metadata": {},
   "outputs": [
    {
     "name": "stderr",
     "output_type": "stream",
     "text": [
      "50000it [00:42, 1176.69it/s]\n"
     ]
    }
   ],
   "source": [
    "import cv2\n",
    "import tqdm\n",
    "for i, img_src in tqdm.tqdm(enumerate(x_train)):\n",
    "    try:\n",
    "        img_gray = cv2.cvtColor(img_src, cv2.COLOR_BGR2GRAY)\n",
    "        factor = 32/max(img_gray.shape)\n",
    "        img_gray_384 = cv2.resize(img_gray, (int(img_src.shape[0]*factor), int(img_src.shape[1]*factor)))\n",
    "    #     plt.imshow(img_gray_384, cmap='gray')\n",
    "        plt.imsave('F:/dataset/CIFAR100/cifar100_train_gray_32/'+str(i)+'.jpg', img_gray_384, cmap='gray')\n",
    "        plt.close()\n",
    "    except:\n",
    "        pass"
   ]
  },
  {
   "cell_type": "code",
   "execution_count": 4,
   "id": "19f84cc8",
   "metadata": {},
   "outputs": [
    {
     "name": "stderr",
     "output_type": "stream",
     "text": [
      "10000it [00:08, 1163.45it/s]\n"
     ]
    }
   ],
   "source": [
    "import cv2\n",
    "import tqdm\n",
    "for i, img_src in tqdm.tqdm(enumerate(x_val)):\n",
    "    try:\n",
    "        img_gray = cv2.cvtColor(img_src, cv2.COLOR_BGR2GRAY)\n",
    "        factor = 32/max(img_gray.shape)\n",
    "        img_gray_384 = cv2.resize(img_gray, (int(img_src.shape[0]*factor), int(img_src.shape[1]*factor)))\n",
    "    #     plt.imshow(img_gray_384, cmap='gray')\n",
    "        plt.imsave('F:/dataset/CIFAR100/cifar100_val_gray_32/'+str(i)+'.jpg', img_gray_384, cmap='gray')\n",
    "        plt.close()\n",
    "    except:\n",
    "        pass"
   ]
  }
 ],
 "metadata": {
  "kernelspec": {
   "display_name": "Python 3 (ipykernel)",
   "language": "python",
   "name": "python3"
  },
  "language_info": {
   "codemirror_mode": {
    "name": "ipython",
    "version": 3
   },
   "file_extension": ".py",
   "mimetype": "text/x-python",
   "name": "python",
   "nbconvert_exporter": "python",
   "pygments_lexer": "ipython3",
   "version": "3.8.13"
  },
  "toc": {
   "base_numbering": 1,
   "nav_menu": {},
   "number_sections": true,
   "sideBar": true,
   "skip_h1_title": false,
   "title_cell": "Table of Contents",
   "title_sidebar": "Contents",
   "toc_cell": false,
   "toc_position": {},
   "toc_section_display": true,
   "toc_window_display": false
  }
 },
 "nbformat": 4,
 "nbformat_minor": 5
}
